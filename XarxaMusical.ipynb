{
 "cells": [
  {
   "cell_type": "markdown",
   "metadata": {},
   "source": [
    "# Musical Graph\n",
    "\n",
    "Author: Pablo Villanueva-Domingo"
   ]
  },
  {
   "cell_type": "code",
   "execution_count": 1,
   "metadata": {},
   "outputs": [
    {
     "data": {
      "text/html": [
       "<style>.container { width:100% !important; }</style>"
      ],
      "text/plain": [
       "<IPython.core.display.HTML object>"
      ]
     },
     "metadata": {},
     "output_type": "display_data"
    }
   ],
   "source": [
    "import networkx as nx\n",
    "import matplotlib.pyplot as plt\n",
    "import pandas as pd\n",
    "from IPython.display import display, HTML\n",
    "display(HTML(\"<style>.container { width:100% !important; }</style>\"))"
   ]
  },
  {
   "cell_type": "code",
   "execution_count": 2,
   "metadata": {},
   "outputs": [
    {
     "data": {
      "text/html": [
       "<div>\n",
       "<style scoped>\n",
       "    .dataframe tbody tr th:only-of-type {\n",
       "        vertical-align: middle;\n",
       "    }\n",
       "\n",
       "    .dataframe tbody tr th {\n",
       "        vertical-align: top;\n",
       "    }\n",
       "\n",
       "    .dataframe thead th {\n",
       "        text-align: right;\n",
       "    }\n",
       "</style>\n",
       "<table border=\"1\" class=\"dataframe\">\n",
       "  <thead>\n",
       "    <tr style=\"text-align: right;\">\n",
       "      <th></th>\n",
       "      <th>Band</th>\n",
       "      <th>Members</th>\n",
       "      <th>Collaborations</th>\n",
       "    </tr>\n",
       "  </thead>\n",
       "  <tbody>\n",
       "    <tr>\n",
       "      <th>0</th>\n",
       "      <td>Mayhem</td>\n",
       "      <td>Varg Vikernes,Hellhammer,Blackthorn,Teloch,Bla...</td>\n",
       "      <td>None</td>\n",
       "    </tr>\n",
       "    <tr>\n",
       "      <th>1</th>\n",
       "      <td>Burzum</td>\n",
       "      <td>Varg Vikernes</td>\n",
       "      <td>None</td>\n",
       "    </tr>\n",
       "    <tr>\n",
       "      <th>2</th>\n",
       "      <td>Emperor</td>\n",
       "      <td>Samoth,Faust</td>\n",
       "      <td>None</td>\n",
       "    </tr>\n",
       "    <tr>\n",
       "      <th>3</th>\n",
       "      <td>Arcturus</td>\n",
       "      <td>Samoth,Hellhammer</td>\n",
       "      <td>None</td>\n",
       "    </tr>\n",
       "    <tr>\n",
       "      <th>4</th>\n",
       "      <td>Darkthrone</td>\n",
       "      <td>Fenriz,Nocturno Culto</td>\n",
       "      <td>Grutle Kjellson,Apollyon</td>\n",
       "    </tr>\n",
       "  </tbody>\n",
       "</table>\n",
       "</div>"
      ],
      "text/plain": [
       "         Band                                            Members  \\\n",
       "0      Mayhem  Varg Vikernes,Hellhammer,Blackthorn,Teloch,Bla...   \n",
       "1      Burzum                                      Varg Vikernes   \n",
       "2     Emperor                                       Samoth,Faust   \n",
       "3    Arcturus                                  Samoth,Hellhammer   \n",
       "4  Darkthrone                              Fenriz,Nocturno Culto   \n",
       "\n",
       "             Collaborations  \n",
       "0                      None  \n",
       "1                      None  \n",
       "2                      None  \n",
       "3                      None  \n",
       "4  Grutle Kjellson,Apollyon  "
      ]
     },
     "execution_count": 2,
     "metadata": {},
     "output_type": "execute_result"
    }
   ],
   "source": [
    "datapath = \"data/\"\n",
    "\n",
    "# Select data for each musical scene\n",
    "#dataname = \"neofolk\"\n",
    "dataname = \"norwegian_black_metal\"\n",
    "#dataname = \"valencian\"\n",
    "#dataname = \"jazz\"\n",
    "#dataname = \"extremoduro\"\n",
    "#dataname = \"rock_radical_vasco\"\n",
    "#dataname = \"folk_valencia\"\n",
    "\n",
    "filename = \"data/\"+dataname+\".txt\"\n",
    "\n",
    "# Flag for showing collaborations\n",
    "show_colls = True\n",
    "\n",
    "dataframe = pd.read_csv(filename, sep=';', names=['Band', 'Members', 'Collaborations'])\n",
    "dataframe = dataframe.where(pd.notna(dataframe), None)\n",
    "dataframe.head()"
   ]
  },
  {
   "cell_type": "code",
   "execution_count": 3,
   "metadata": {},
   "outputs": [],
   "source": [
    "def create_graph(dataframe, coll=True):\n",
    "\n",
    "    # Create an empty graph\n",
    "    graph = nx.Graph()\n",
    "    \n",
    "    # First, populate the graph nodes with all the considered bands \n",
    "    for i, band in dataframe.iterrows():\n",
    "\n",
    "        graph.add_node(band[\"Band\"], type=\"band\")\n",
    "\n",
    "    # Second, add members\n",
    "    for i, band in dataframe.iterrows():\n",
    "        \n",
    "        if band[\"Members\"] is not None:\n",
    "\n",
    "            for member in band[\"Members\"].split(\",\"):\n",
    "                if not (member in graph):\n",
    "\n",
    "                    graph.add_node(member, type=\"person\")\n",
    "\n",
    "                graph.add_edge(band[\"Band\"], member, type=\"member\")\n",
    "            \n",
    "        # Then, add collaborations\n",
    "        # If there are elements in the collaborations column\n",
    "        if not dataframe['Collaborations'].isnull().values.sum()==len(dataframe):\n",
    "            if coll and band[\"Collaborations\"] is not None:\n",
    "                for person in band[\"Collaborations\"].split(\",\"):\n",
    "                    if not (person in graph):\n",
    "\n",
    "                        graph.add_node(person, type=\"person\")\n",
    "\n",
    "                    if not graph.has_edge(band[\"Band\"], person):\n",
    "                        graph.add_edge(band[\"Band\"], person, type=\"collab\")\n",
    "            \n",
    "        \n",
    "    return graph\n",
    "\n",
    "graph = create_graph(dataframe, coll=show_colls)"
   ]
  },
  {
   "cell_type": "code",
   "execution_count": 11,
   "metadata": {},
   "outputs": [
    {
     "data": {
      "application/vnd.jupyter.widget-view+json": {
       "model_id": "c696ae966a084d609715ca32fa55bd73",
       "version_major": 2,
       "version_minor": 0
      },
      "text/plain": [
       "Sigma(nx.Graph with 43 nodes and 63 edges)"
      ]
     },
     "execution_count": 11,
     "metadata": {},
     "output_type": "execute_result"
    }
   ],
   "source": [
    "from ipysigma import Sigma\n",
    "\n",
    "Sigma(graph, node_size=graph.degree, node_color='type', edge_color=\"type\", label_density=10, node_border_color_from=\"node\")"
   ]
  },
  {
   "cell_type": "code",
   "execution_count": null,
   "metadata": {},
   "outputs": [],
   "source": []
  }
 ],
 "metadata": {
  "kernelspec": {
   "display_name": "Python 3 (ipykernel)",
   "language": "python",
   "name": "python3"
  },
  "language_info": {
   "codemirror_mode": {
    "name": "ipython",
    "version": 3
   },
   "file_extension": ".py",
   "mimetype": "text/x-python",
   "name": "python",
   "nbconvert_exporter": "python",
   "pygments_lexer": "ipython3",
   "version": "3.8.10"
  }
 },
 "nbformat": 4,
 "nbformat_minor": 4
}
