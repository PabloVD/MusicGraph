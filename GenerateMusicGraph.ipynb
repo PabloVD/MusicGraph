{
 "cells": [
  {
   "cell_type": "markdown",
   "metadata": {},
   "source": [
    "# Musical Graph\n",
    "\n",
    "Author: Pablo Villanueva-Domingo"
   ]
  },
  {
   "cell_type": "code",
   "execution_count": 1,
   "metadata": {},
   "outputs": [
    {
     "data": {
      "text/html": [
       "<style>.container { width:100% !important; }</style>"
      ],
      "text/plain": [
       "<IPython.core.display.HTML object>"
      ]
     },
     "metadata": {},
     "output_type": "display_data"
    }
   ],
   "source": [
    "import networkx as nx\n",
    "import matplotlib.pyplot as plt\n",
    "import pandas as pd\n",
    "from IPython.display import display, HTML\n",
    "display(HTML(\"<style>.container { width:100% !important; }</style>\"))"
   ]
  },
  {
   "cell_type": "code",
   "execution_count": 2,
   "metadata": {},
   "outputs": [
    {
     "data": {
      "text/html": [
       "<div>\n",
       "<style scoped>\n",
       "    .dataframe tbody tr th:only-of-type {\n",
       "        vertical-align: middle;\n",
       "    }\n",
       "\n",
       "    .dataframe tbody tr th {\n",
       "        vertical-align: top;\n",
       "    }\n",
       "\n",
       "    .dataframe thead th {\n",
       "        text-align: right;\n",
       "    }\n",
       "</style>\n",
       "<table border=\"1\" class=\"dataframe\">\n",
       "  <thead>\n",
       "    <tr style=\"text-align: right;\">\n",
       "      <th></th>\n",
       "      <th>Band</th>\n",
       "      <th>Members</th>\n",
       "      <th>Collaborations</th>\n",
       "    </tr>\n",
       "  </thead>\n",
       "  <tbody>\n",
       "    <tr>\n",
       "      <th>0</th>\n",
       "      <td>Orxata Sound System</td>\n",
       "      <td>Biano,Jordi Palau,Jaume Guerra,Panxo,Neus Bere...</td>\n",
       "      <td>Pep Botifarra</td>\n",
       "    </tr>\n",
       "    <tr>\n",
       "      <th>1</th>\n",
       "      <td>Palmer</td>\n",
       "      <td>Aina Palmer,Jordi Palau</td>\n",
       "      <td>Aina Koda</td>\n",
       "    </tr>\n",
       "    <tr>\n",
       "      <th>2</th>\n",
       "      <td>Obrint Pas</td>\n",
       "      <td>Xavi Sarrià,Jaume Guerra,Marcos Úbeda</td>\n",
       "      <td>Pep Botifarra,Miquel Gil</td>\n",
       "    </tr>\n",
       "    <tr>\n",
       "      <th>3</th>\n",
       "      <td>Mafalda</td>\n",
       "      <td>None</td>\n",
       "      <td>None</td>\n",
       "    </tr>\n",
       "    <tr>\n",
       "      <th>4</th>\n",
       "      <td>ZOO</td>\n",
       "      <td>Panxo,Arnau Giménez,Jaume Guerra,Marcos Úbeda,...</td>\n",
       "      <td>Toni Mejías,Mafalda,Marala,JazzWoman,El Diluvi...</td>\n",
       "    </tr>\n",
       "  </tbody>\n",
       "</table>\n",
       "</div>"
      ],
      "text/plain": [
       "                  Band                                            Members  \\\n",
       "0  Orxata Sound System  Biano,Jordi Palau,Jaume Guerra,Panxo,Neus Bere...   \n",
       "1               Palmer                            Aina Palmer,Jordi Palau   \n",
       "2           Obrint Pas              Xavi Sarrià,Jaume Guerra,Marcos Úbeda   \n",
       "3              Mafalda                                               None   \n",
       "4                  ZOO  Panxo,Arnau Giménez,Jaume Guerra,Marcos Úbeda,...   \n",
       "\n",
       "                                      Collaborations  \n",
       "0                                      Pep Botifarra  \n",
       "1                                          Aina Koda  \n",
       "2                           Pep Botifarra,Miquel Gil  \n",
       "3                                               None  \n",
       "4  Toni Mejías,Mafalda,Marala,JazzWoman,El Diluvi...  "
      ]
     },
     "execution_count": 2,
     "metadata": {},
     "output_type": "execute_result"
    }
   ],
   "source": [
    "datapath = \"data/\"\n",
    "\n",
    "# Select data for each musical scene\n",
    "#dataname = \"neofolk\"\n",
    "#dataname = \"norwegian_black_metal\"\n",
    "#dataname = \"jazz\"\n",
    "#dataname = \"extremoduro\"\n",
    "#dataname = \"rock_radical_vasco\"\n",
    "#dataname = \"spanish_rap\"\n",
    "dataname = \"valencian\"\n",
    "\n",
    "filename = \"data/\"+dataname+\".txt\"\n",
    "\n",
    "# Flag for showing collaborations\n",
    "show_colls = True\n",
    "\n",
    "dataframe = pd.read_csv(filename, sep=';', names=['Band', 'Members', 'Collaborations'])\n",
    "dataframe = dataframe.where(pd.notna(dataframe), None)\n",
    "dataframe.head()"
   ]
  },
  {
   "cell_type": "code",
   "execution_count": 3,
   "metadata": {},
   "outputs": [],
   "source": [
    "def create_graph(dataframe, coll=True):\n",
    "\n",
    "    # Create an empty graph\n",
    "    graph = nx.Graph()\n",
    "    \n",
    "    # First, populate the graph nodes with all the considered bands \n",
    "    for i, band in dataframe.iterrows():\n",
    "\n",
    "        graph.add_node(band[\"Band\"], type=\"Band\")\n",
    "\n",
    "    # Second, add members\n",
    "    for i, band in dataframe.iterrows():\n",
    "        \n",
    "        if band[\"Members\"] is not None:\n",
    "\n",
    "            for member in band[\"Members\"].split(\",\"):\n",
    "                if not (member in graph):\n",
    "\n",
    "                    graph.add_node(member, type=\"Musician\")\n",
    "\n",
    "                graph.add_edge(band[\"Band\"], member, type=\"Member\")\n",
    "            \n",
    "        # Then, add collaborations\n",
    "        # If there are elements in the collaborations column\n",
    "        if not dataframe['Collaborations'].isnull().values.sum()==len(dataframe):\n",
    "            if coll and band[\"Collaborations\"] is not None:\n",
    "                for person in band[\"Collaborations\"].split(\",\"):\n",
    "                    if not (person in graph):\n",
    "\n",
    "                        graph.add_node(person, type=\"Musician\")\n",
    "\n",
    "                    if not graph.has_edge(band[\"Band\"], person):\n",
    "                        graph.add_edge(band[\"Band\"], person, type=\"Collaboration\")\n",
    "            \n",
    "        \n",
    "    return graph\n",
    "\n",
    "graph = create_graph(dataframe, coll=show_colls)"
   ]
  },
  {
   "cell_type": "code",
   "execution_count": 4,
   "metadata": {},
   "outputs": [
    {
     "data": {
      "application/vnd.jupyter.widget-view+json": {
       "model_id": "3c1b29324575404d834867ff63f97bbc",
       "version_major": 2,
       "version_minor": 0
      },
      "text/plain": [
       "Sigma(nx.Graph with 112 nodes and 176 edges)"
      ]
     },
     "execution_count": 4,
     "metadata": {},
     "output_type": "execute_result"
    }
   ],
   "source": [
    "from ipysigma import Sigma\n",
    "\n",
    "args = {\"node_size\":graph.degree,\n",
    "        \"node_color\":\"type\",\n",
    "        \"edge_color\":\"type\",\n",
    "        \"label_density\":10,\n",
    "        \"node_border_color_from\":\"node\",\n",
    "        \"start_layout\":20}\n",
    "\n",
    "sig = Sigma(graph, **args)\n",
    "sig"
   ]
  },
  {
   "cell_type": "code",
   "execution_count": 5,
   "metadata": {},
   "outputs": [],
   "source": [
    "sig.write_html(graph,\"htmls/\"+dataname+'.html', fullscreen=True, **args)"
   ]
  },
  {
   "cell_type": "code",
   "execution_count": null,
   "metadata": {},
   "outputs": [],
   "source": []
  }
 ],
 "metadata": {
  "kernelspec": {
   "display_name": "Python 3 (ipykernel)",
   "language": "python",
   "name": "python3"
  },
  "language_info": {
   "codemirror_mode": {
    "name": "ipython",
    "version": 3
   },
   "file_extension": ".py",
   "mimetype": "text/x-python",
   "name": "python",
   "nbconvert_exporter": "python",
   "pygments_lexer": "ipython3",
   "version": "3.8.10"
  }
 },
 "nbformat": 4,
 "nbformat_minor": 4
}
