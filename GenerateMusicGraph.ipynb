{
 "cells": [
  {
   "cell_type": "markdown",
   "metadata": {},
   "source": [
    "# Musical Graph\n",
    "\n",
    "Author: Pablo Villanueva-Domingo"
   ]
  },
  {
   "cell_type": "code",
   "execution_count": 1,
   "metadata": {},
   "outputs": [
    {
     "data": {
      "text/html": [
       "<style>.container { width:100% !important; }</style>"
      ],
      "text/plain": [
       "<IPython.core.display.HTML object>"
      ]
     },
     "metadata": {},
     "output_type": "display_data"
    }
   ],
   "source": [
    "import networkx as nx\n",
    "import matplotlib.pyplot as plt\n",
    "import pandas as pd\n",
    "from IPython.display import display, HTML\n",
    "display(HTML(\"<style>.container { width:100% !important; }</style>\"))"
   ]
  },
  {
   "cell_type": "code",
   "execution_count": 2,
   "metadata": {},
   "outputs": [
    {
     "data": {
      "text/html": [
       "<div>\n",
       "<style scoped>\n",
       "    .dataframe tbody tr th:only-of-type {\n",
       "        vertical-align: middle;\n",
       "    }\n",
       "\n",
       "    .dataframe tbody tr th {\n",
       "        vertical-align: top;\n",
       "    }\n",
       "\n",
       "    .dataframe thead th {\n",
       "        text-align: right;\n",
       "    }\n",
       "</style>\n",
       "<table border=\"1\" class=\"dataframe\">\n",
       "  <thead>\n",
       "    <tr style=\"text-align: right;\">\n",
       "      <th></th>\n",
       "      <th>Band</th>\n",
       "      <th>Members</th>\n",
       "      <th>Collaborations</th>\n",
       "    </tr>\n",
       "  </thead>\n",
       "  <tbody>\n",
       "    <tr>\n",
       "      <th>0</th>\n",
       "      <td>Mägo de Oz</td>\n",
       "      <td>Txus di Fellatio,Frank,José Andrëa,Jorge Salán...</td>\n",
       "      <td>Víctor García,Leo Jiménez,Silverio Solórzano</td>\n",
       "    </tr>\n",
       "    <tr>\n",
       "      <th>1</th>\n",
       "      <td>Saratoga</td>\n",
       "      <td>Fortu Sánchez,Leo Jiménez,Jero Ramiro,Niko del...</td>\n",
       "      <td>None</td>\n",
       "    </tr>\n",
       "    <tr>\n",
       "      <th>2</th>\n",
       "      <td>Muro</td>\n",
       "      <td>Silverio Solórzano</td>\n",
       "      <td>None</td>\n",
       "    </tr>\n",
       "    <tr>\n",
       "      <th>3</th>\n",
       "      <td>Silver Fist</td>\n",
       "      <td>Silverio Solórzano</td>\n",
       "      <td>None</td>\n",
       "    </tr>\n",
       "    <tr>\n",
       "      <th>4</th>\n",
       "      <td>Obús</td>\n",
       "      <td>Fortu Sánchez,Fernando Sánchez,Juan Luis Serrano</td>\n",
       "      <td>None</td>\n",
       "    </tr>\n",
       "  </tbody>\n",
       "</table>\n",
       "</div>"
      ],
      "text/plain": [
       "          Band                                            Members  \\\n",
       "0   Mägo de Oz  Txus di Fellatio,Frank,José Andrëa,Jorge Salán...   \n",
       "1     Saratoga  Fortu Sánchez,Leo Jiménez,Jero Ramiro,Niko del...   \n",
       "2         Muro                                 Silverio Solórzano   \n",
       "3  Silver Fist                                 Silverio Solórzano   \n",
       "4         Obús   Fortu Sánchez,Fernando Sánchez,Juan Luis Serrano   \n",
       "\n",
       "                                 Collaborations  \n",
       "0  Víctor García,Leo Jiménez,Silverio Solórzano  \n",
       "1                                          None  \n",
       "2                                          None  \n",
       "3                                          None  \n",
       "4                                          None  "
      ]
     },
     "execution_count": 2,
     "metadata": {},
     "output_type": "execute_result"
    }
   ],
   "source": [
    "datapath = \"data/\"\n",
    "\n",
    "# Select data for each musical scene\n",
    "#dataname = \"neofolk\"\n",
    "#dataname = \"norwegian_black_metal\"\n",
    "#dataname = \"jazz\"\n",
    "#dataname = \"extremoduro\"\n",
    "#dataname = \"rock_radical_vasco\"\n",
    "#dataname = \"spanish_rap\"\n",
    "dataname = \"valencian\"\n",
    "dataname = \"spanish_heavy_metal\"\n",
    "\n",
    "filename = \"data/\"+dataname+\".txt\"\n",
    "\n",
    "# Flag for showing collaborations\n",
    "show_colls = True\n",
    "\n",
    "dataframe = pd.read_csv(filename, sep=';', names=['Band', 'Members', 'Collaborations'])\n",
    "dataframe = dataframe.where(pd.notna(dataframe), None)\n",
    "dataframe.head()"
   ]
  },
  {
   "cell_type": "code",
   "execution_count": 3,
   "metadata": {},
   "outputs": [],
   "source": [
    "def create_graph(dataframe, coll=True):\n",
    "\n",
    "    # Create an empty graph\n",
    "    graph = nx.Graph()\n",
    "    \n",
    "    # First, populate the graph nodes with all the considered bands \n",
    "    for i, band in dataframe.iterrows():\n",
    "\n",
    "        graph.add_node(band[\"Band\"], type=\"Band\")\n",
    "\n",
    "    # Second, add members\n",
    "    for i, band in dataframe.iterrows():\n",
    "        \n",
    "        if band[\"Members\"] is not None:\n",
    "\n",
    "            for member in band[\"Members\"].split(\",\"):\n",
    "                if not (member in graph):\n",
    "\n",
    "                    graph.add_node(member, type=\"Musician\")\n",
    "\n",
    "                graph.add_edge(band[\"Band\"], member, type=\"Member\")\n",
    "            \n",
    "        # Then, add collaborations\n",
    "        # If there are elements in the collaborations column\n",
    "        if not dataframe['Collaborations'].isnull().values.sum()==len(dataframe):\n",
    "            if coll and band[\"Collaborations\"] is not None:\n",
    "                for person in band[\"Collaborations\"].split(\",\"):\n",
    "                    if not (person in graph):\n",
    "\n",
    "                        graph.add_node(person, type=\"Musician\")\n",
    "\n",
    "                    if not graph.has_edge(band[\"Band\"], person):\n",
    "                        graph.add_edge(band[\"Band\"], person, type=\"Collaboration\")\n",
    "            \n",
    "        \n",
    "    return graph\n",
    "\n",
    "graph = create_graph(dataframe, coll=show_colls)"
   ]
  },
  {
   "cell_type": "code",
   "execution_count": 4,
   "metadata": {},
   "outputs": [
    {
     "data": {
      "application/vnd.jupyter.widget-view+json": {
       "model_id": "ae5e494d8cc04e74848d1a988d9b0686",
       "version_major": 2,
       "version_minor": 0
      },
      "text/plain": [
       "Sigma(nx.Graph with 70 nodes and 100 edges)"
      ]
     },
     "execution_count": 4,
     "metadata": {},
     "output_type": "execute_result"
    }
   ],
   "source": [
    "from ipysigma import Sigma\n",
    "\n",
    "args = {\"node_size\":graph.degree,\n",
    "        \"node_color\":\"type\",\n",
    "        \"edge_color\":\"type\",\n",
    "        \"label_density\":20,\n",
    "        \"node_border_color_from\":\"node\",\n",
    "        \"start_layout\":20}\n",
    "\n",
    "sig = Sigma(graph, **args)\n",
    "sig"
   ]
  },
  {
   "cell_type": "code",
   "execution_count": 5,
   "metadata": {},
   "outputs": [],
   "source": [
    "sig.write_html(graph,\"htmls/\"+dataname+'.html', fullscreen=True, **args)"
   ]
  },
  {
   "cell_type": "code",
   "execution_count": null,
   "metadata": {},
   "outputs": [],
   "source": []
  }
 ],
 "metadata": {
  "kernelspec": {
   "display_name": "Python 3 (ipykernel)",
   "language": "python",
   "name": "python3"
  },
  "language_info": {
   "codemirror_mode": {
    "name": "ipython",
    "version": 3
   },
   "file_extension": ".py",
   "mimetype": "text/x-python",
   "name": "python",
   "nbconvert_exporter": "python",
   "pygments_lexer": "ipython3",
   "version": "3.8.10"
  }
 },
 "nbformat": 4,
 "nbformat_minor": 4
}
