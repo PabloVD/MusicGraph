{
 "cells": [
  {
   "cell_type": "code",
   "execution_count": 1,
   "id": "7af69511",
   "metadata": {},
   "outputs": [],
   "source": [
    "import networkx as nx\n",
    "import pandas as pd\n",
    "import glob\n",
    "from ipysigma import Sigma\n",
    "\n",
    "def create_graph(dataframe, coll=True):\n",
    "\n",
    "    # Create an empty graph\n",
    "    graph = nx.Graph()\n",
    "    \n",
    "    # First, populate the graph nodes with all the considered bands \n",
    "    for i, band in dataframe.iterrows():\n",
    "\n",
    "        graph.add_node(band[\"Band\"], type=\"Band\")\n",
    "\n",
    "    # Second, add members\n",
    "    for i, band in dataframe.iterrows():\n",
    "        \n",
    "        if band[\"Members\"] is not None:\n",
    "\n",
    "            for member in band[\"Members\"].split(\",\"):\n",
    "                if not (member in graph):\n",
    "\n",
    "                    graph.add_node(member, type=\"Musician\")\n",
    "\n",
    "                graph.add_edge(band[\"Band\"], member, type=\"Member\")\n",
    "            \n",
    "        # Then, add collaborations\n",
    "        # If there are elements in the collaborations column\n",
    "        if not dataframe['Collaborations'].isnull().values.sum()==len(dataframe):\n",
    "            if coll and band[\"Collaborations\"] is not None:\n",
    "                for person in band[\"Collaborations\"].split(\",\"):\n",
    "                    if not (person in graph):\n",
    "\n",
    "                        graph.add_node(person, type=\"Musician\")\n",
    "\n",
    "                    if not graph.has_edge(band[\"Band\"], person):\n",
    "                        graph.add_edge(band[\"Band\"], person, type=\"Collaboration\")\n",
    "            \n",
    "        \n",
    "    return graph"
   ]
  },
  {
   "cell_type": "code",
   "execution_count": 2,
   "id": "f45cc485",
   "metadata": {},
   "outputs": [
    {
     "name": "stdout",
     "output_type": "stream",
     "text": [
      "spanish_heavy_metal\n",
      "neofolk\n",
      "norwegian_black_metal\n",
      "extremoduro\n",
      "jazz\n",
      "rock_radical_vasco\n",
      "nueva_cancion_latinoamericana\n",
      "valencian\n",
      "catalan_extreme_metal\n",
      "british_heavy_metal\n",
      "spanish_rap\n"
     ]
    }
   ],
   "source": [
    "datapath = \"data/\"\n",
    "show_colls=True\n",
    "args = {\"node_size\":0,\n",
    "        \"node_color\":\"type\",\n",
    "        \"edge_color\":\"type\",\n",
    "        \"label_density\":10,\n",
    "        \"node_border_color_from\":\"node\",\n",
    "        \"start_layout\":2,\n",
    "        \"hide_info_panel\":True,\n",
    "        \"background_color\":\"rgb(255, 255, 255)\"}\n",
    "\n",
    "datafiles = glob.glob(datapath+\"*txt\")\n",
    "\n",
    "for filename in datafiles:\n",
    "    dataname = filename.replace(\".txt\",\"\").replace(datapath,\"\")\n",
    "    print(dataname)\n",
    "    \n",
    "    dataframe = pd.read_csv(filename, sep=';', names=['Band', 'Members', 'Collaborations'])\n",
    "    dataframe = dataframe.where(pd.notna(dataframe), None)\n",
    "\n",
    "    graph = create_graph(dataframe, coll=show_colls)\n",
    "    args[\"node_size\"]=graph.degree\n",
    "    \n",
    "    Sigma(graph, **args).write_html(graph,\"htmls/\"+dataname+'.html', fullscreen=True, **args)"
   ]
  },
  {
   "cell_type": "code",
   "execution_count": null,
   "id": "d5cf14c8-4c47-44c0-a5c2-29d1db26b641",
   "metadata": {},
   "outputs": [],
   "source": []
  }
 ],
 "metadata": {
  "kernelspec": {
   "display_name": "Python 3 (ipykernel)",
   "language": "python",
   "name": "python3"
  },
  "language_info": {
   "codemirror_mode": {
    "name": "ipython",
    "version": 3
   },
   "file_extension": ".py",
   "mimetype": "text/x-python",
   "name": "python",
   "nbconvert_exporter": "python",
   "pygments_lexer": "ipython3",
   "version": "3.8.10"
  }
 },
 "nbformat": 4,
 "nbformat_minor": 5
}
